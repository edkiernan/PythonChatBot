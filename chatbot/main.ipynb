{
 "cells": [
  {
   "cell_type": "code",
   "execution_count": null,
   "metadata": {},
   "outputs": [],
   "source": [
    "import keras\n",
    "from keras.utils import to_categorical\n",
    "from nltk.tokenize import word_tokenize\n",
    "from sklearn.preprocessing import LabelEncoder\n",
    "from keras.preprocessing.sequence import pad_sequences\n",
    "from keras import Sequential\n",
    "from keras.layers import Dense, Flatten, Embedding\n",
    "import numpy as np\n",
    "import re\n",
    "from bot import BOT"
   ]
  },
  {
   "cell_type": "code",
   "execution_count": null,
   "metadata": {},
   "outputs": [],
   "source": [
    "# Hyperparameters\n",
    "vocab_size = 2000\n",
    "max_length = 20"
   ]
  },
  {
   "cell_type": "code",
   "execution_count": null,
   "metadata": {},
   "outputs": [],
   "source": [
    "# text cleaning and fit bpe tokenizer\n",
    "bot = BOT(vocab_size)\n",
    "\n",
    "def tokenize(text):\n",
    "    clean_text = re.sub(\"r[^A-z0-9?!.', ]\", '', str(text))\n",
    "    return ' '.join(word_tokenize(clean_text))\n",
    "\n",
    "\n",
    "x = []\n",
    "y = []\n",
    "\n",
    "with open(\"dialogs.txt\", 'r') as file:\n",
    "    for line in file.readlines():\n",
    "        question, answer = line.replace(\"\\n\", '').split('\\t')\n",
    "        x.append(tokenize(question))\n",
    "        y.append(answer)\n",
    "\n",
    "\n",
    "bot.fit(x)\n",
    "\n",
    "x = [bot.decode(i) for i in x]\n",
    "x = pad_sequences(x, maxlen=max_length)"
   ]
  },
  {
   "cell_type": "code",
   "execution_count": null,
   "metadata": {},
   "outputs": [],
   "source": [
    "# Save the tokenizer as a file\n",
    "bot.save()\n",
    "\n",
    "# Load the tokenizer from a file\n",
    "bot.load()"
   ]
  },
  {
   "cell_type": "code",
   "execution_count": null,
   "metadata": {},
   "outputs": [],
   "source": [
    "label_encoder = LabelEncoder()\n",
    "y = label_encoder.fit_transform(y)\n",
    "output_size = len(label_encoder.classes_)\n",
    "y = to_categorical(y)"
   ]
  },
  {
   "cell_type": "code",
   "execution_count": null,
   "metadata": {},
   "outputs": [],
   "source": [
    "test_x, test_y = x[:100], y[:100]"
   ]
  },
  {
   "cell_type": "code",
   "execution_count": null,
   "metadata": {},
   "outputs": [],
   "source": [
    "#Model\n",
    "model = Sequential([\n",
    "    Embedding(input_dim=vocab_size, output_dim=32, input_length=max_length),\n",
    "    Flatten(),\n",
    "    Dense(units=64, activation='relu'),\n",
    "    Dense(units=32, activation='relu'),\n",
    "    Dense(units=16, activation='relu'),\n",
    "    Dense(units=output_size, activation='softmax')\n",
    "])\n",
    "\n",
    "model.compile(optimizer=\"adam\", loss=\"categorical_crossentropy\", metrics=[\"accuracy\"])\n",
    "model.summary() "
   ]
  },
  {
   "cell_type": "code",
   "execution_count": null,
   "metadata": {},
   "outputs": [],
   "source": [
    "model.fit(x, y, epochs=50)\n",
    "\n",
    "val_loss, val_acc = model.evaluate(test_x, test_y)\n",
    "print(val_loss)\n",
    "print(val_acc)"
   ]
  },
  {
   "cell_type": "code",
   "execution_count": null,
   "metadata": {},
   "outputs": [],
   "source": [
    "# save model \n",
    "model.save(\"ChatBot.hdf5\")\n",
    "\n",
    "model = keras.models.load_model(\"ChatBot.hdf5\")\n",
    "val_loss, val_acc = model.evaluate(test_x, test_y)\n",
    "print(val_loss)\n",
    "print(val_acc)"
   ]
  },
  {
   "cell_type": "code",
   "execution_count": null,
   "metadata": {},
   "outputs": [],
   "source": [
    "def preprocess_input(text):\n",
    "    text_lower = text.lower()\n",
    "    tokenize_text = tokenize(text_lower)\n",
    "    decode_text = bpe.decode(tokenize_text)\n",
    "    return pad_sequences([decode_text], maxlen=max_length)\n",
    "\n",
    "\n",
    "while True:\n",
    "    user_input = input(\"You: \")\n",
    "    print(f\"You: {user_input}\")\n",
    "    preprocessed_input = preprocess_input(user_input)\n",
    "    prediction = model.predict(preprocessed_input)\n",
    "    predicted_label = label_encoder.inverse_transform([np.argmax(prediction)])\n",
    "    print(f\"Bot: {predicted_label[0]}\")\n",
    "    print()"
   ]
  }
 ],
 "metadata": {
  "language_info": {
   "name": "python"
  },
  "orig_nbformat": 4
 },
 "nbformat": 4,
 "nbformat_minor": 2
}
