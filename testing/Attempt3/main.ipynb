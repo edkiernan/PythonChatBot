{
 "cells": [
  {
   "cell_type": "code",
   "execution_count": 1,
   "metadata": {},
   "outputs": [
    {
     "name": "stderr",
     "output_type": "stream",
     "text": [
      "2023-08-15 09:49:00.036079: I tensorflow/core/platform/cpu_feature_guard.cc:182] This TensorFlow binary is optimized to use available CPU instructions in performance-critical operations.\n",
      "To enable the following instructions: AVX2 FMA, in other operations, rebuild TensorFlow with the appropriate compiler flags.\n"
     ]
    }
   ],
   "source": [
    "import keras\n",
    "from keras.utils import to_categorical\n",
    "from nltk.tokenize import word_tokenize\n",
    "from sklearn.preprocessing import LabelEncoder\n",
    "from keras.preprocessing.sequence import pad_sequences\n",
    "from keras import Sequential\n",
    "from keras.layers import Dense, Flatten, Embedding\n",
    "import numpy as np\n",
    "import re\n",
    "from bot import BOT"
   ]
  },
  {
   "cell_type": "code",
   "execution_count": 8,
   "metadata": {},
   "outputs": [],
   "source": [
    "# Hyperparameters\n",
    "vocab_size = 2000\n",
    "max_length = 20"
   ]
  },
  {
   "cell_type": "code",
   "execution_count": 3,
   "metadata": {},
   "outputs": [
    {
     "ename": "NameError",
     "evalue": "name 'vocab_size' is not defined",
     "output_type": "error",
     "traceback": [
      "\u001b[0;31m---------------------------------------------------------------------------\u001b[0m",
      "\u001b[0;31mNameError\u001b[0m                                 Traceback (most recent call last)",
      "Cell \u001b[0;32mIn[3], line 2\u001b[0m\n\u001b[1;32m      1\u001b[0m \u001b[39m# text cleaning and fit bpe tokenizer\u001b[39;00m\n\u001b[0;32m----> 2\u001b[0m bot \u001b[39m=\u001b[39m BOT(vocab_size)\n\u001b[1;32m      4\u001b[0m \u001b[39mdef\u001b[39;00m \u001b[39mtokenize\u001b[39m(text):\n\u001b[1;32m      5\u001b[0m     clean_text \u001b[39m=\u001b[39m re\u001b[39m.\u001b[39msub(\u001b[39m\"\u001b[39m\u001b[39mr[^A-z0-9?!.\u001b[39m\u001b[39m'\u001b[39m\u001b[39m, ]\u001b[39m\u001b[39m\"\u001b[39m, \u001b[39m'\u001b[39m\u001b[39m'\u001b[39m, \u001b[39mstr\u001b[39m(text))\n",
      "\u001b[0;31mNameError\u001b[0m: name 'vocab_size' is not defined"
     ]
    }
   ],
   "source": [
    "# text cleaning and fit bpe tokenizer\n",
    "bot = BOT(vocab_size)\n",
    "\n",
    "def tokenize(text):\n",
    "    clean_text = re.sub(\"r[^A-z0-9?!.', ]\", '', str(text))\n",
    "    return ' '.join(word_tokenize(clean_text))\n",
    "\n",
    "\n",
    "x = []\n",
    "y = []\n",
    "\n",
    "with open(\"dialogs.txt\", 'r') as file:\n",
    "    for line in file.readlines():\n",
    "        question, answer = line.replace(\"\\n\", '').split('\\t')\n",
    "        x.append(tokenize(question))\n",
    "        y.append(answer)\n",
    "\n",
    "\n",
    "bot.fit(x)\n",
    "\n",
    "x = [bot.decode(i) for i in x]\n",
    "x = pad_sequences(x, maxlen=max_length)"
   ]
  },
  {
   "cell_type": "code",
   "execution_count": null,
   "metadata": {},
   "outputs": [],
   "source": [
    "# Save the tokenizer as a file\n",
    "bot.save()\n",
    "\n",
    "# Load the tokenizer from a file\n",
    "bot.load()"
   ]
  },
  {
   "cell_type": "code",
   "execution_count": null,
   "metadata": {},
   "outputs": [],
   "source": [
    "label_encoder = LabelEncoder()\n",
    "y = label_encoder.fit_transform(y)\n",
    "output_size = len(label_encoder.classes_)\n",
    "y = to_categorical(y)"
   ]
  },
  {
   "cell_type": "code",
   "execution_count": null,
   "metadata": {},
   "outputs": [],
   "source": [
    "test_x, test_y = x[:100], y[:100]"
   ]
  },
  {
   "cell_type": "code",
   "execution_count": null,
   "metadata": {},
   "outputs": [],
   "source": [
    "#Model\n",
    "model = Sequential([\n",
    "    Embedding(input_dim=vocab_size, output_dim=32, input_length=max_length),\n",
    "    Flatten(),\n",
    "    Dense(units=64, activation='relu'),\n",
    "    Dense(units=32, activation='relu'),\n",
    "    Dense(units=16, activation='relu'),\n",
    "    Dense(units=output_size, activation='softmax')\n",
    "])\n",
    "\n",
    "model.compile(optimizer=\"adam\", loss=\"categorical_crossentropy\", metrics=[\"accuracy\"])\n",
    "model.summary() "
   ]
  },
  {
   "cell_type": "code",
   "execution_count": null,
   "metadata": {},
   "outputs": [],
   "source": [
    "model.fit(x, y, epochs=50)\n",
    "\n",
    "val_loss, val_acc = model.evaluate(test_x, test_y)\n",
    "print(val_loss)\n",
    "print(val_acc)"
   ]
  },
  {
   "cell_type": "code",
   "execution_count": null,
   "metadata": {},
   "outputs": [],
   "source": [
    "# save model \n",
    "model.save(\"ChatBot.hdf5\")\n",
    "\n",
    "model = keras.models.load_model(\"ChatBot.hdf5\")\n",
    "val_loss, val_acc = model.evaluate(test_x, test_y)\n",
    "print(val_loss)\n",
    "print(val_acc)"
   ]
  },
  {
   "cell_type": "code",
   "execution_count": null,
   "metadata": {},
   "outputs": [],
   "source": [
    "def preprocess_input(text):\n",
    "    text_lower = text.lower()\n",
    "    tokenize_text = tokenize(text_lower)\n",
    "    decode_text = bpe.decode(tokenize_text)\n",
    "    return pad_sequences([decode_text], maxlen=max_length)\n",
    "\n",
    "\n",
    "while True:\n",
    "    user_input = input(\"You: \")\n",
    "    print(f\"You: {user_input}\")\n",
    "    preprocessed_input = preprocess_input(user_input)\n",
    "    prediction = model.predict(preprocessed_input)\n",
    "    predicted_label = label_encoder.inverse_transform([np.argmax(prediction)])\n",
    "    print(f\"Bot: {predicted_label[0]}\")\n",
    "    print()"
   ]
  }
 ],
 "metadata": {
  "kernelspec": {
   "display_name": "Python 3",
   "language": "python",
   "name": "python3"
  },
  "language_info": {
   "codemirror_mode": {
    "name": "ipython",
    "version": 3
   },
   "file_extension": ".py",
   "mimetype": "text/x-python",
   "name": "python",
   "nbconvert_exporter": "python",
   "pygments_lexer": "ipython3",
   "version": "3.10.6"
  },
  "orig_nbformat": 4
 },
 "nbformat": 4,
 "nbformat_minor": 2
}
